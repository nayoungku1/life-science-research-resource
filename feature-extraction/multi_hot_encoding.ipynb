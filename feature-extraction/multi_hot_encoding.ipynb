{
 "cells": [
  {
   "cell_type": "markdown",
   "metadata": {},
   "source": [
    "# Multi Hot Encoder\n",
    "data\n",
    "*   data/frequency_based_encoding_X.csv\n",
    "*   data/frequency_based_encoding_X_test.csv\n",
    "\n",
    "model\n",
    "*   variant_dict.pkl"
   ]
  },
  {
   "cell_type": "markdown",
   "metadata": {},
   "source": [
    "# Import library"
   ]
  },
  {
   "cell_type": "code",
   "execution_count": 16,
   "metadata": {},
   "outputs": [],
   "source": [
    "import pandas as pd\n",
    "import numpy as np\n",
    "from sklearn.preprocessing import LabelEncoder"
   ]
  },
  {
   "cell_type": "markdown",
   "metadata": {},
   "source": [
    "# Load Data"
   ]
  },
  {
   "cell_type": "code",
   "execution_count": 2,
   "metadata": {},
   "outputs": [],
   "source": [
    "train = pd.read_csv(\"../data/train.csv\")\n",
    "test = pd.read_csv(\"../data/test.csv\")"
   ]
  },
  {
   "cell_type": "markdown",
   "metadata": {},
   "source": [
    "# Data Preprocessing"
   ]
  },
  {
   "cell_type": "code",
   "execution_count": 3,
   "metadata": {},
   "outputs": [
    {
     "name": "stdout",
     "output_type": "stream",
     "text": [
      "원래 레이블: ACC, 변환된 숫자: 0\n",
      "원래 레이블: BLCA, 변환된 숫자: 1\n",
      "원래 레이블: BRCA, 변환된 숫자: 2\n",
      "원래 레이블: CESC, 변환된 숫자: 3\n",
      "원래 레이블: COAD, 변환된 숫자: 4\n",
      "원래 레이블: DLBC, 변환된 숫자: 5\n",
      "원래 레이블: GBMLGG, 변환된 숫자: 6\n",
      "원래 레이블: HNSC, 변환된 숫자: 7\n",
      "원래 레이블: KIPAN, 변환된 숫자: 8\n",
      "원래 레이블: KIRC, 변환된 숫자: 9\n",
      "원래 레이블: LAML, 변환된 숫자: 10\n",
      "원래 레이블: LGG, 변환된 숫자: 11\n",
      "원래 레이블: LIHC, 변환된 숫자: 12\n",
      "원래 레이블: LUAD, 변환된 숫자: 13\n",
      "원래 레이블: LUSC, 변환된 숫자: 14\n",
      "원래 레이블: OV, 변환된 숫자: 15\n",
      "원래 레이블: PAAD, 변환된 숫자: 16\n",
      "원래 레이블: PCPG, 변환된 숫자: 17\n",
      "원래 레이블: PRAD, 변환된 숫자: 18\n",
      "원래 레이블: SARC, 변환된 숫자: 19\n",
      "원래 레이블: SKCM, 변환된 숫자: 20\n",
      "원래 레이블: STES, 변환된 숫자: 21\n",
      "원래 레이블: TGCT, 변환된 숫자: 22\n",
      "원래 레이블: THCA, 변환된 숫자: 23\n",
      "원래 레이블: THYM, 변환된 숫자: 24\n",
      "원래 레이블: UCEC, 변환된 숫자: 25\n"
     ]
    }
   ],
   "source": [
    "# SUBCLASS 가 범주형이기 때문에 LabelEncoder 사용\n",
    "le_subclass = LabelEncoder()\n",
    "train['SUBCLASS'] = le_subclass.fit_transform(train['SUBCLASS'])\n",
    "\n",
    "# 변환된 레이블 확인\n",
    "for i, label in enumerate(le_subclass.classes_):\n",
    "    print(f\"원래 레이블: {label}, 변환된 숫자: {i}\")"
   ]
  },
  {
   "cell_type": "code",
   "execution_count": 4,
   "metadata": {},
   "outputs": [],
   "source": [
    "## x 의 경우도 범주형으로 구성되어 있어, 알맞은 인코딩 필요\n",
    "X = train.drop(columns=['SUBCLASS', 'ID'])\n",
    "y_subclass = train['SUBCLASS']"
   ]
  },
  {
   "cell_type": "code",
   "execution_count": 5,
   "metadata": {},
   "outputs": [],
   "source": [
    "X_test = test.drop([\"ID\"], axis = 1)"
   ]
  },
  {
   "cell_type": "markdown",
   "metadata": {},
   "source": [
    "이 코드는 다음과 같이 작동합니다:\n",
    "1. create_variant_dict 함수는 각 유전자(열)의 모든 가능한 변이를 포함하는 사전을 생성합니다.\n",
    "2. encode_sample 함수는 각 샘플(행)을 이진 벡터로 인코딩합니다.\n",
    "3. 전체 데이터셋에 대해 인코딩을 수행하고, 결과를 새로운 DataFrame으로 변환합니다.\n",
    "4. SUBCLASS를 숫자로 인코딩합니다.\n",
    "5. 최종 데이터셋을 생성합니다. 이 데이터셋은 샘플 ID, 인코딩된 변이 데이터, 인코딩된 SUBCLASS를 포함합니다.\n",
    "6. 변이 사전을 파일로 저장합니다 (테스트 데이터 인코딩에 사용하기 위함).\n",
    "\n",
    "이 방법의 장점은 다음과 같습니다:\n",
    "1. 모든 가능한 변이를 명시적으로 표현할 수 있습니다.\n",
    "2. 각 변이의 존재 여부를 명확하게 나타냅니다.\n",
    "3. 머신러닝 모델이 각 변이의 영향을 개별적으로 학습할 수 있습니다.\n",
    "\n",
    "단점은 다음과 같습니다:\n",
    "1. 희귀 변이가 많은 경우 벡터가 매우 희소해질 수 있습니다.\n",
    "2. 차원이 매우 높아질 수 있어 계산 비용이 증가할 수 있습니다.\n",
    "3. 테스트 데이터에 이 인코딩을 적용할 때는 다음과 같이 할 수 있습니다:"
   ]
  },
  {
   "cell_type": "code",
   "execution_count": 6,
   "metadata": {},
   "outputs": [],
   "source": [
    "# 변이 사전 생성 함수\n",
    "def create_variant_dict(X):\n",
    "    variant_dict = {}\n",
    "    for column in X.columns:  # ID와 SUBCLASS를 제외한 열\n",
    "        unique_variants = X[column].unique()\n",
    "        variant_dict[column] = {variant: i for i, variant in enumerate(unique_variants)}\n",
    "    return variant_dict"
   ]
  },
  {
   "cell_type": "code",
   "execution_count": 7,
   "metadata": {},
   "outputs": [],
   "source": [
    "def encode_sample(row, variant_dict):\n",
    "    encoded = []\n",
    "    for column, value in row.items():\n",
    "        if column not in variant_dict:\n",
    "            continue  # 알려지지 않은 열은 건너뜁니다\n",
    "        gene_encoding = [0] * len(variant_dict[column])\n",
    "        if value in variant_dict[column]:\n",
    "            gene_encoding[variant_dict[column][value]] = 1\n",
    "        else:\n",
    "            # 알려지지 않은 변이는 모두 0으로 처리하거나, \n",
    "            # 또는 새로운 카테고리를 추가할 수 있습니다\n",
    "            pass  # 또는 여기에 알려지지 않은 변이 처리 로직을 추가\n",
    "        encoded.extend(gene_encoding)\n",
    "    return encoded"
   ]
  },
  {
   "cell_type": "code",
   "execution_count": 8,
   "metadata": {},
   "outputs": [],
   "source": [
    "# 변이 사전 생성\n",
    "variant_dict = create_variant_dict(X)"
   ]
  },
  {
   "cell_type": "code",
   "execution_count": 9,
   "metadata": {},
   "outputs": [],
   "source": [
    "# 데이터 인코딩\n",
    "encoded_data = X.apply(lambda row: encode_sample(row, variant_dict), axis=1)"
   ]
  },
  {
   "cell_type": "code",
   "execution_count": 10,
   "metadata": {},
   "outputs": [],
   "source": [
    "# 인코딩된 데이터를 DataFrame으로 변환\n",
    "column_names = [f\"{gene}_{variant}\" for gene, variants in variant_dict.items() for variant in variants]\n",
    "encoded_X = pd.DataFrame(encoded_data.tolist(), columns=column_names)"
   ]
  },
  {
   "cell_type": "code",
   "execution_count": 11,
   "metadata": {},
   "outputs": [],
   "source": [
    "# 변이 사전 저장 (테스트 데이터 인코딩을 위해)\n",
    "import pickle\n",
    "with open('variant_dict.pkl', 'wb') as f:\n",
    "    pickle.dump(variant_dict, f)"
   ]
  },
  {
   "cell_type": "code",
   "execution_count": 12,
   "metadata": {},
   "outputs": [],
   "source": [
    "# 변이 사전 로드\n",
    "with open('variant_dict.pkl', 'rb') as f:\n",
    "    variant_dict = pickle.load(f)"
   ]
  },
  {
   "cell_type": "code",
   "execution_count": 13,
   "metadata": {},
   "outputs": [],
   "source": [
    "# 테스트 데이터 인코딩\n",
    "test_encoded = X_test.apply(lambda row: encode_sample(row, variant_dict), axis=1)\n",
    "\n",
    "# 인코딩된 테스트 데이터를 DataFrame으로 변환\n",
    "column_names = [f\"{gene}_{variant}\" for gene, variants in variant_dict.items() for variant in variants]\n",
    "test_encoded_df = pd.DataFrame(test_encoded.tolist(), columns=column_names)"
   ]
  },
  {
   "cell_type": "markdown",
   "metadata": {},
   "source": [
    "# Save in data"
   ]
  },
  {
   "cell_type": "code",
   "execution_count": 14,
   "metadata": {},
   "outputs": [],
   "source": [
    "encoded_X.to_csv(f'../data/multi_hot_encoding_X.csv', encoding='UTF-8-sig', index=False)"
   ]
  },
  {
   "cell_type": "code",
   "execution_count": 15,
   "metadata": {},
   "outputs": [],
   "source": [
    "test_encoded_df.to_csv(f'../data/multi_hot_encoding_X_test.csv', encoding='UTF-8-sig', index=False)"
   ]
  },
  {
   "cell_type": "code",
   "execution_count": null,
   "metadata": {},
   "outputs": [],
   "source": []
  }
 ],
 "metadata": {
  "kernelspec": {
   "display_name": "Python 3 (ipykernel)",
   "language": "python",
   "name": "python3"
  },
  "language_info": {
   "codemirror_mode": {
    "name": "ipython",
    "version": 3
   },
   "file_extension": ".py",
   "mimetype": "text/x-python",
   "name": "python",
   "nbconvert_exporter": "python",
   "pygments_lexer": "ipython3",
   "version": "3.11.8"
  }
 },
 "nbformat": 4,
 "nbformat_minor": 4
}
