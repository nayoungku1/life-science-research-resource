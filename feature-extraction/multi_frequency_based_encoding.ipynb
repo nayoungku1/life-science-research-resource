{
 "cells": [
  {
   "cell_type": "markdown",
   "metadata": {},
   "source": [
    "# Multi hot + Frequnecy 기반 encoder\n",
    "data\n",
    "*   data/multi_freq_based_encoding_X.csv\n",
    "*   data/multi_freq_based_encoding_X_test.csv"
   ]
  },
  {
   "cell_type": "markdown",
   "metadata": {},
   "source": [
    "# Import library"
   ]
  },
  {
   "cell_type": "code",
   "execution_count": 1,
   "metadata": {},
   "outputs": [],
   "source": [
    "import pandas as pd\n",
    "import numpy as np\n",
    "from collections import defaultdict\n",
    "from sklearn.preprocessing import LabelEncoder\n",
    "import dill as pickle  "
   ]
  },
  {
   "cell_type": "markdown",
   "metadata": {},
   "source": [
    "# Load Data"
   ]
  },
  {
   "cell_type": "code",
   "execution_count": 2,
   "metadata": {},
   "outputs": [],
   "source": [
    "train = pd.read_csv(\"../data/train.csv\")\n",
    "test = pd.read_csv(\"../data/test.csv\")"
   ]
  },
  {
   "cell_type": "markdown",
   "metadata": {},
   "source": [
    "# Data Preprocessing"
   ]
  },
  {
   "cell_type": "code",
   "execution_count": 3,
   "metadata": {},
   "outputs": [
    {
     "name": "stdout",
     "output_type": "stream",
     "text": [
      "원래 레이블: ACC, 변환된 숫자: 0\n",
      "원래 레이블: BLCA, 변환된 숫자: 1\n",
      "원래 레이블: BRCA, 변환된 숫자: 2\n",
      "원래 레이블: CESC, 변환된 숫자: 3\n",
      "원래 레이블: COAD, 변환된 숫자: 4\n",
      "원래 레이블: DLBC, 변환된 숫자: 5\n",
      "원래 레이블: GBMLGG, 변환된 숫자: 6\n",
      "원래 레이블: HNSC, 변환된 숫자: 7\n",
      "원래 레이블: KIPAN, 변환된 숫자: 8\n",
      "원래 레이블: KIRC, 변환된 숫자: 9\n",
      "원래 레이블: LAML, 변환된 숫자: 10\n",
      "원래 레이블: LGG, 변환된 숫자: 11\n",
      "원래 레이블: LIHC, 변환된 숫자: 12\n",
      "원래 레이블: LUAD, 변환된 숫자: 13\n",
      "원래 레이블: LUSC, 변환된 숫자: 14\n",
      "원래 레이블: OV, 변환된 숫자: 15\n",
      "원래 레이블: PAAD, 변환된 숫자: 16\n",
      "원래 레이블: PCPG, 변환된 숫자: 17\n",
      "원래 레이블: PRAD, 변환된 숫자: 18\n",
      "원래 레이블: SARC, 변환된 숫자: 19\n",
      "원래 레이블: SKCM, 변환된 숫자: 20\n",
      "원래 레이블: STES, 변환된 숫자: 21\n",
      "원래 레이블: TGCT, 변환된 숫자: 22\n",
      "원래 레이블: THCA, 변환된 숫자: 23\n",
      "원래 레이블: THYM, 변환된 숫자: 24\n",
      "원래 레이블: UCEC, 변환된 숫자: 25\n"
     ]
    }
   ],
   "source": [
    "# SUBCLASS 가 범주형이기 때문에 LabelEncoder 사용\n",
    "le_subclass = LabelEncoder()\n",
    "train['SUBCLASS'] = le_subclass.fit_transform(train['SUBCLASS'])\n",
    "\n",
    "# 변환된 레이블 확인\n",
    "for i, label in enumerate(le_subclass.classes_):\n",
    "    print(f\"원래 레이블: {label}, 변환된 숫자: {i}\")"
   ]
  },
  {
   "cell_type": "code",
   "execution_count": 4,
   "metadata": {},
   "outputs": [],
   "source": [
    "## x 의 경우도 범주형으로 구성되어 있어, 알맞은 인코딩 필요\n",
    "X = train.drop(columns=['SUBCLASS', 'ID'])\n",
    "y_subclass = train['SUBCLASS']"
   ]
  },
  {
   "cell_type": "markdown",
   "metadata": {},
   "source": [
    "* 이 코드는 다음과 같이 작동합니다:\n",
    "1. 데이터를 로드합니다.\n",
    "2. 샘플의 변이 데이터를 전처리하여 \"유전자_변이\" 형식의 문자열 리스트로 변환합니다.\n",
    "3. Word2Vec 모델을 사용하여 변이 임베딩을 학습합니다. 여기서는 10차원 벡터를 사용했지만, 이는 조정 가능합니다.\n",
    "4. 각 변이에 대한 임베딩을 가져오는 함수와 각 샘플의 임베딩을 계산하는 함수를 정의합니다. 샘플 임베딩은 해당 샘플의 모든 변이 임베딩의 평균으로 계산됩니다.\n",
    "5. 모든 샘플에 대한 임베딩을 생성합니다.\n",
    "6. SUBCLASS를 숫자로 인코딩합니다.\n",
    "7. 최종 데이터셋을 생성합니다. 이 데이터셋은 샘플 ID, 임베딩 벡터, 인코딩된 SUBCLASS를 포함합니다.\n",
    "8. 이 방법의 장점은 다음과 같습니다:\n",
    "9. 변이 간의 의미적 관계를 포착할 수 있습니다.\n",
    "10. 고차원 데이터를 저차원으로 축소할 수 있습니다.\n",
    "11. 새로운 또는 희귀한 변이에 대해서도 의미 있는 표현을 제공할 수 있습니다.\n",
    "* 단점은 다음과 같습니다:\n",
    "충분한 데이터가 없으면 임베딩의 품질이 떨어질 수 있습니다.\n",
    "하이퍼파라미터 튜닝(예: vector_size, window 등)이 필요할 수 있습니다.\n",
    "이 인코딩 방법을 사용한 후, 결과 데이터셋을 머신러닝 모델의 입력으로 사용할 수 있습니다."
   ]
  },
  {
   "cell_type": "code",
   "execution_count": 5,
   "metadata": {},
   "outputs": [],
   "source": [
    "# 변이 사전 및 빈도 계산 함수\n",
    "def create_variant_dict_and_frequencies(df):\n",
    "    variant_dict = {}\n",
    "    freq_dict = defaultdict(lambda: defaultdict(float))\n",
    "    total_samples = len(df)\n",
    "    \n",
    "    for column in df.columns:  # ID와 SUBCLASS를 제외한 열\n",
    "        unique_variants = df[column].unique()\n",
    "        variant_dict[column] = {variant: i for i, variant in enumerate(unique_variants)}\n",
    "        \n",
    "        value_counts = df[column].value_counts()\n",
    "        for variant, count in value_counts.items():\n",
    "            freq_dict[column][variant] = count / total_samples\n",
    "    \n",
    "    return variant_dict, freq_dict"
   ]
  },
  {
   "cell_type": "code",
   "execution_count": 6,
   "metadata": {},
   "outputs": [],
   "source": [
    "# 샘플 인코딩 함수\n",
    "def encode_sample(row, variant_dict, freq_dict):\n",
    "    encoded = []\n",
    "    for column, value in row.items():\n",
    "        if column not in ['ID', 'SUBCLASS']:\n",
    "            gene_encoding = [0.0] * len(variant_dict.get(column, []))\n",
    "            \n",
    "            # value가 문자열일 때만 split() 적용\n",
    "            if isinstance(value, str):\n",
    "                mutations = value.split()\n",
    "                for mutation in mutations:\n",
    "                    if mutation in variant_dict.get(column, {}):\n",
    "                        gene_encoding[variant_dict[column][mutation]] = freq_dict[column][mutation]\n",
    "            \n",
    "            # 문자열이 아닌 경우 건너뜀\n",
    "            encoded.extend(gene_encoding)\n",
    "    return encoded"
   ]
  },
  {
   "cell_type": "code",
   "execution_count": 7,
   "metadata": {},
   "outputs": [],
   "source": [
    "# 변이 사전 및 빈도 계산\n",
    "variant_dict, freq_dict = create_variant_dict_and_frequencies(X)"
   ]
  },
  {
   "cell_type": "code",
   "execution_count": 8,
   "metadata": {
    "scrolled": true
   },
   "outputs": [
    {
     "name": "stdout",
     "output_type": "stream",
     "text": [
      "CPU times: user 21.9 s, sys: 2.08 s, total: 23.9 s\n",
      "Wall time: 26 s\n"
     ]
    }
   ],
   "source": [
    "%%time\n",
    "# 데이터 인코딩\n",
    "encoded_data = X.apply(lambda row: encode_sample(row, variant_dict, freq_dict), axis=1)"
   ]
  },
  {
   "cell_type": "code",
   "execution_count": 9,
   "metadata": {},
   "outputs": [
    {
     "data": {
      "text/plain": [
       "(6201,)"
      ]
     },
     "execution_count": 9,
     "metadata": {},
     "output_type": "execute_result"
    }
   ],
   "source": [
    "encoded_data.shape"
   ]
  },
  {
   "cell_type": "code",
   "execution_count": 10,
   "metadata": {
    "scrolled": true
   },
   "outputs": [
    {
     "data": {
      "text/plain": [
       "0       [0.9761328817932592, 0.0, 0.0, 0.0, 0.0, 0.0, ...\n",
       "1       [0.9761328817932592, 0.0, 0.0, 0.0, 0.0, 0.0, ...\n",
       "2       [0.0, 0.00016126431220770844, 0.0, 0.0, 0.0, 0...\n",
       "3       [0.9761328817932592, 0.0, 0.0, 0.0, 0.0, 0.0, ...\n",
       "4       [0.9761328817932592, 0.0, 0.0, 0.0, 0.0, 0.0, ...\n",
       "                              ...                        \n",
       "6196    [0.9761328817932592, 0.0, 0.0, 0.0, 0.0, 0.0, ...\n",
       "6197    [0.9761328817932592, 0.0, 0.0, 0.0, 0.0, 0.0, ...\n",
       "6198    [0.9761328817932592, 0.0, 0.0, 0.0, 0.0, 0.0, ...\n",
       "6199    [0.9761328817932592, 0.0, 0.0, 0.0, 0.0, 0.0, ...\n",
       "6200    [0.9761328817932592, 0.0, 0.0, 0.0, 0.0, 0.0, ...\n",
       "Length: 6201, dtype: object"
      ]
     },
     "execution_count": 10,
     "metadata": {},
     "output_type": "execute_result"
    }
   ],
   "source": [
    "encoded_data"
   ]
  },
  {
   "cell_type": "code",
   "execution_count": 11,
   "metadata": {},
   "outputs": [],
   "source": [
    "# 인코딩된 데이터를 DataFrame으로 변환\n",
    "column_names = [f\"{gene}_{variant}\" for gene, variants in variant_dict.items() for variant in variants]\n",
    "encoded_X = pd.DataFrame(encoded_data.tolist(), columns=column_names)"
   ]
  },
  {
   "cell_type": "code",
   "execution_count": 12,
   "metadata": {},
   "outputs": [],
   "source": [
    "# 변이 사전 및 빈도 사전 저장 (테스트 데이터 인코딩을 위해)\n",
    "with open('variant_and_freq_dict.pkl', 'wb') as f:\n",
    "    pickle.dump((variant_dict, freq_dict), f)"
   ]
  },
  {
   "cell_type": "code",
   "execution_count": 13,
   "metadata": {},
   "outputs": [],
   "source": [
    "X_test = test.drop([\"ID\"], axis = 1)"
   ]
  },
  {
   "cell_type": "code",
   "execution_count": 14,
   "metadata": {},
   "outputs": [],
   "source": [
    "# 변이 사전 및 빈도 사전 로드\n",
    "with open('variant_and_freq_dict.pkl', 'rb') as f:\n",
    "    variant_dict, freq_dict = pickle.load(f)"
   ]
  },
  {
   "cell_type": "code",
   "execution_count": 15,
   "metadata": {
    "scrolled": true
   },
   "outputs": [],
   "source": [
    "# 테스트 데이터 인코딩\n",
    "test_encoded = X_test.apply(lambda row: encode_sample(row, variant_dict, freq_dict), axis=1)"
   ]
  },
  {
   "cell_type": "code",
   "execution_count": 16,
   "metadata": {},
   "outputs": [],
   "source": [
    "# 인코딩된 테스트 데이터를 DataFrame으로 변환\n",
    "column_names = [f\"{gene}_{variant}\" for gene, variants in variant_dict.items() for variant in variants]\n",
    "test_encoded_df = pd.DataFrame(test_encoded.tolist(), columns=column_names)"
   ]
  },
  {
   "cell_type": "markdown",
   "metadata": {},
   "source": [
    "Save in data\n",
    "\n",
    "* encoded_data.to_csv(f'../data/multi_freq_based_encoding_X.csv', encoding='UTF-8-sig', index=False)\n",
    "* test_encoded_df.to_csv(f'../data/multi_freq_based_encoding_X_test.csv', encoding='UTF-8-sig', index=False)"
   ]
  },
  {
   "cell_type": "code",
   "execution_count": 17,
   "metadata": {},
   "outputs": [],
   "source": [
    "from pycaret.classification import *"
   ]
  },
  {
   "cell_type": "code",
   "execution_count": 18,
   "metadata": {},
   "outputs": [],
   "source": [
    "# 예제 데이터셋 로드\n",
    "X = encoded_X\n",
    "y = pd.DataFrame(y_subclass)"
   ]
  },
  {
   "cell_type": "code",
   "execution_count": 19,
   "metadata": {},
   "outputs": [
    {
     "data": {
      "text/plain": [
       "(6201, 206989)"
      ]
     },
     "execution_count": 19,
     "metadata": {},
     "output_type": "execute_result"
    }
   ],
   "source": [
    "X.shape"
   ]
  },
  {
   "cell_type": "code",
   "execution_count": 20,
   "metadata": {},
   "outputs": [],
   "source": [
    "X = X.loc[:, (X != 0).any(axis=0)]"
   ]
  },
  {
   "cell_type": "code",
   "execution_count": 21,
   "metadata": {},
   "outputs": [
    {
     "data": {
      "text/plain": [
       "(6201, 185171)"
      ]
     },
     "execution_count": 21,
     "metadata": {},
     "output_type": "execute_result"
    }
   ],
   "source": [
    "X.shape"
   ]
  },
  {
   "cell_type": "code",
   "execution_count": 1,
   "metadata": {},
   "outputs": [
    {
     "ename": "NameError",
     "evalue": "name 'setup' is not defined",
     "output_type": "error",
     "traceback": [
      "\u001b[0;31m---------------------------------------------------------------------------\u001b[0m",
      "\u001b[0;31mNameError\u001b[0m                                 Traceback (most recent call last)",
      "Cell \u001b[0;32mIn[1], line 2\u001b[0m\n\u001b[1;32m      1\u001b[0m \u001b[38;5;66;03m# 환경 설정\u001b[39;00m\n\u001b[0;32m----> 2\u001b[0m setup_clf \u001b[38;5;241m=\u001b[39m setup(data\u001b[38;5;241m=\u001b[39mX, target\u001b[38;5;241m=\u001b[39my[\u001b[38;5;124m\"\u001b[39m\u001b[38;5;124mSUBCLASS\u001b[39m\u001b[38;5;124m\"\u001b[39m], session_id\u001b[38;5;241m=\u001b[39m\u001b[38;5;241m123\u001b[39m,\n\u001b[1;32m      3\u001b[0m                   normalize\u001b[38;5;241m=\u001b[39m\u001b[38;5;28;01mTrue\u001b[39;00m,  \u001b[38;5;66;03m# 정규화 (Min-Max 스케일링)\u001b[39;00m\n\u001b[1;32m      4\u001b[0m                   transformation\u001b[38;5;241m=\u001b[39m\u001b[38;5;28;01mTrue\u001b[39;00m,  \u001b[38;5;66;03m# 분포 변환 (예: Box-Cox)\u001b[39;00m\n\u001b[1;32m      5\u001b[0m                   normalize_method\u001b[38;5;241m=\u001b[39m\u001b[38;5;124m'\u001b[39m\u001b[38;5;124mminmax\u001b[39m\u001b[38;5;124m'\u001b[39m)\n",
      "\u001b[0;31mNameError\u001b[0m: name 'setup' is not defined"
     ]
    }
   ],
   "source": [
    "# 환경 설정\n",
    "setup_clf = setup(data=X, target=y[\"SUBCLASS\"], session_id=123,\n",
    "                  normalize=True,  # 정규화 (Min-Max 스케일링)\n",
    "                  transformation=True,  # 분포 변환 (예: Box-Cox)\n",
    "                  normalize_method='minmax')  # 정규화 방법 지정"
   ]
  },
  {
   "cell_type": "code",
   "execution_count": null,
   "metadata": {},
   "outputs": [],
   "source": []
  }
 ],
 "metadata": {
  "kernelspec": {
   "display_name": "Python 3 (ipykernel)",
   "language": "python",
   "name": "python3"
  },
  "language_info": {
   "codemirror_mode": {
    "name": "ipython",
    "version": 3
   },
   "file_extension": ".py",
   "mimetype": "text/x-python",
   "name": "python",
   "nbconvert_exporter": "python",
   "pygments_lexer": "ipython3",
   "version": "3.11.8"
  }
 },
 "nbformat": 4,
 "nbformat_minor": 4
}
